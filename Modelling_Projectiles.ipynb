{
 "cells": [
  {
   "cell_type": "markdown",
   "metadata": {
    "collapsed": true
   },
   "source": [
    "# Animating a Projectile\n",
    "#### Zain Naqavi\n",
    "\n",
    "This code will use Vpython to animate the path of a projectile based on the equations of Classical Mechanics.\n",
    "\n",
    "* Initially, the module functions required to create a Vpython animation are imported.\n",
    "* The first section will animate the initial path of a projectile ball until it touches the ground by implementing the equations of motion.\n",
    "* The second section will extend the animation of the path of a projectile ball by also implementing the conservation of momentum to calculate the bounces of the ball."
   ]
  },
  {
   "cell_type": "code",
   "execution_count": 1,
   "metadata": {},
   "outputs": [
    {
     "data": {
      "text/html": [
       "<div id=\"glowscript\" class=\"glowscript\"></div>"
      ],
      "text/plain": [
       "<IPython.core.display.HTML object>"
      ]
     },
     "metadata": {},
     "output_type": "display_data"
    },
    {
     "data": {
      "application/javascript": [
       "if (typeof Jupyter !== \"undefined\") { window.__context = { glowscript_container: $(\"#glowscript\").removeAttr(\"id\")};}else{ element.textContent = ' ';}"
      ],
      "text/plain": [
       "<IPython.core.display.Javascript object>"
      ]
     },
     "metadata": {},
     "output_type": "display_data"
    }
   ],
   "source": [
    "import numpy as np\n",
    "from vpython import sphere, color, rate, canvas, vector, curve, box, label, vec"
   ]
  },
  {
   "cell_type": "markdown",
   "metadata": {},
   "source": [
    "The equations of motion are implemented to calculate the path of a projectile, under the influence of gravity, launched from a height, $y_0$, at an angle, $\\theta$, to the horizontal with a velocity, $v_0$.\n",
    "\n",
    "$$ x(t) = x_0 + v_0 t \\cos \\theta $$\n",
    "\n",
    "$$ y(t) = y_0 + v_0 t \\sin \\theta -\\frac{1}{2}g t^2 $$\n",
    "\n",
    "$$ \\text{Range} = \\frac{v_0^2 \\sin(2\\theta)}{g} $$\n",
    "\n",
    "There is a small approximation error when the value for range is calculated using the code sine the while loop does not stop when the value for the y position of the ball is exactly zero.\n",
    "\n",
    "In the code, the approximation for the trajectory of the ball is less accurate as the value of $\\delta t$ increases since it is the increment of time over which the new position of the ball is calculated. It would be infinitely accurate if $\\delta t$ were an infinitesimally small value. The value of $\\delta t$ as 0.01 is used as a good approximation to the parabolic curve of projectile motion."
   ]
  },
  {
   "cell_type": "code",
   "execution_count": 2,
   "metadata": {},
   "outputs": [
    {
     "data": {
      "text/html": [
       "<div id=\"glowscript\" class=\"glowscript\"></div>"
      ],
      "text/plain": [
       "<IPython.core.display.HTML object>"
      ]
     },
     "metadata": {},
     "output_type": "display_data"
    },
    {
     "data": {
      "application/javascript": [
       "if (typeof Jupyter !== \"undefined\") { window.__context = { glowscript_container: $(\"#glowscript\").removeAttr(\"id\")};}else{ element.textContent = ' ';}"
      ],
      "text/plain": [
       "<IPython.core.display.Javascript object>"
      ]
     },
     "metadata": {},
     "output_type": "display_data"
    },
    {
     "data": {
      "application/javascript": [
       "if (typeof Jupyter !== \"undefined\") {require.undef(\"nbextensions/vpython_libraries/glow.min\");}else{element.textContent = ' ';}"
      ],
      "text/plain": [
       "<IPython.core.display.Javascript object>"
      ]
     },
     "metadata": {},
     "output_type": "display_data"
    },
    {
     "data": {
      "application/javascript": [
       "if (typeof Jupyter !== \"undefined\") {require.undef(\"nbextensions/vpython_libraries/glowcomm\");}else{element.textContent = ' ';}"
      ],
      "text/plain": [
       "<IPython.core.display.Javascript object>"
      ]
     },
     "metadata": {},
     "output_type": "display_data"
    },
    {
     "data": {
      "application/javascript": [
       "if (typeof Jupyter !== \"undefined\") {require.undef(\"nbextensions/vpython_libraries/jquery-ui.custom.min\");}else{element.textContent = ' ';}"
      ],
      "text/plain": [
       "<IPython.core.display.Javascript object>"
      ]
     },
     "metadata": {},
     "output_type": "display_data"
    },
    {
     "data": {
      "application/javascript": [
       "if (typeof Jupyter !== \"undefined\") {require([\"nbextensions/vpython_libraries/glow.min\"], function(){console.log(\"GLOW LOADED\");});}else{element.textContent = ' ';}"
      ],
      "text/plain": [
       "<IPython.core.display.Javascript object>"
      ]
     },
     "metadata": {},
     "output_type": "display_data"
    },
    {
     "data": {
      "application/javascript": [
       "if (typeof Jupyter !== \"undefined\") {require([\"nbextensions/vpython_libraries/glowcomm\"], function(){console.log(\"GLOWCOMM LOADED\");});}else{element.textContent = ' ';}"
      ],
      "text/plain": [
       "<IPython.core.display.Javascript object>"
      ]
     },
     "metadata": {},
     "output_type": "display_data"
    },
    {
     "data": {
      "application/javascript": [
       "if (typeof Jupyter !== \"undefined\") {require([\"nbextensions/vpython_libraries/jquery-ui.custom.min\"], function(){console.log(\"JQUERY LOADED\");});}else{element.textContent = ' ';}"
      ],
      "text/plain": [
       "<IPython.core.display.Javascript object>"
      ]
     },
     "metadata": {},
     "output_type": "display_data"
    },
    {
     "name": "stdout",
     "output_type": "stream",
     "text": [
      "Input the initial height in metres: 0\n",
      "Input the initial angle in degrees: 60\n",
      "Input the initial speed in metres/second: 30\n",
      "\n",
      "The ball was in the air for 5.309999999999931 seconds.\n",
      "The ball landed 79.64999999999898 metres from the origin in the x-direction.\n",
      "The predicted range of the ball launched is 79.53294524550967 metres from the origin in the x-direction.\n",
      "The difference in the values for range is 0.11705475448931679 metres.\n"
     ]
    }
   ],
   "source": [
    "# Set up the scene\n",
    "canvas(center = vector(50,20,0), range = 50)\n",
    "ground = curve(pos = [vector(-5,0,0), vector(100,0,0)], color = color.green)\n",
    "\n",
    "g = 9.8    # gravitational acceleration, ms^-2\n",
    "dt = 0.01  # time interval for loop animation, s\n",
    "x0 = 0.0   # initial ball x-coordinate, m\n",
    "\n",
    "# Input initial conditions (height, angle and speed)\n",
    "y0 = float(input(\"Input the initial height in metres: \"))\n",
    "dtheta = float(input(\"Input the initial angle in degrees: \"))\n",
    "theta = np.radians(dtheta)\n",
    "v0 = float(input(\"Input the initial speed in metres/second: \"))\n",
    "\n",
    "# Initialise objects\n",
    "ball = sphere(pos = vector(x0,y0,0), radius = 1, make_trail = True)\n",
    "platform = box(pos = vector(x0,y0/2,0), length = 1, height = y0, width = 1, color = color.orange)\n",
    "\n",
    "t = 0                   # initial time\n",
    "while ball.pos.y >= 0:  # loop calculating position of ball as long as it is above ground\n",
    "    rate(100)           # restricts animation to 100 updates per second (since dt = 0.01)\n",
    "    t = t + dt          # increment value of time to calculate new position\n",
    "    \n",
    "    # equations of motion of ball\n",
    "    ball.pos.x = x0 + v0 * t * np.cos(theta)\n",
    "    ball.pos.y = y0 + v0 * t * np.sin(theta) - 0.5 * g * t ** 2\n",
    "    \n",
    "    \n",
    "# Output final calculations\n",
    "print(\"\\nThe ball was in the air for\", t, \"seconds.\")\n",
    "print(\"The ball landed\", ball.pos.x, \"metres from the origin in the x-direction.\")\n",
    "\n",
    "if y0 == 0:  # output predicted range only if ball launched from origin (for which equation is valid)\n",
    "    ball_range = np.sin(2*theta) * v0**2 / g\n",
    "    range_diff = abs(ball_range - ball.pos.x)\n",
    "    print(\"The predicted range of the ball launched is\", ball_range, \"metres from the origin in the x-direction.\")\n",
    "    print(\"The difference in the values for range is\", range_diff, \"metres.\")\n",
    "\n",
    "# Output final calculations on Vpython canvas\n",
    "if y0 == 0:  # output predicted range only if ball launched from origin (for which equation is valid)\n",
    "    text_calculations = 'Time in air:  {0:0.3f} s\\nRange:  {1:0.3f} m\\nPredicted range (<i>y</i><sub>0</sub> = 0):  {2:0.3f} m\\nDifference in range values:  {3:0.3f} m'.format(t, ball.pos.x, ball_range, range_diff)\n",
    "else:\n",
    "    text_calculations = 'Time in air:  {0:0.3f} s\\nRange:  {1:0.3f} m'.format(t, ball.pos.x)\n",
    "\n",
    "label_calculations = label(pos = vec(ball.pos.x,-5,0), text = text_calculations, border = 4)    "
   ]
  },
  {
   "cell_type": "markdown",
   "metadata": {},
   "source": [
    "### Calculating bounce\n",
    "A real ball will bounce inelastically, and the normal component of the velocity is reduced by a factor $e < 1$, where $e$ is the _coefficient of restitution_. The speed and angle of the projectile will change at each bounce, depending on $e$, giving the following four equations:\n",
    "\n",
    "The angle of incidence is defined relative to the normal (i.e. $y$-axis):\n",
    "\n",
    "$$ \\alpha = \\frac{\\pi}{2} - \\theta $$\n",
    "\n",
    "Thus, the angle of reflection relative to the normal is:\n",
    "\n",
    "$$ \\beta = \\arctan\\left(\\frac{\\tan \\alpha }{e} \\right)$$\n",
    "\n",
    "From these the speed of the ball following the bounce, $v_0^\\prime$, can be determined:\n",
    "\n",
    "$$ v_0^\\prime =  \\frac{\\cos \\alpha}{\\cos \\beta} v_0 e$$\n",
    "\n",
    "And the launch angle (relative to the $x$-axis) of the ball following the bounce:\n",
    "\n",
    "$$ \\theta^\\prime = \\frac{\\pi}{2} - \\beta $$ \n",
    "\n",
    "In the code, the while loop animating the bounces of the ball is stopped when the maximum height of the next bounce is negligible."
   ]
  },
  {
   "cell_type": "code",
   "execution_count": 3,
   "metadata": {},
   "outputs": [
    {
     "data": {
      "text/html": [
       "<div id=\"glowscript\" class=\"glowscript\"></div>"
      ],
      "text/plain": [
       "<IPython.core.display.HTML object>"
      ]
     },
     "metadata": {},
     "output_type": "display_data"
    },
    {
     "data": {
      "application/javascript": [
       "if (typeof Jupyter !== \"undefined\") { window.__context = { glowscript_container: $(\"#glowscript\").removeAttr(\"id\")};}else{ element.textContent = ' ';}"
      ],
      "text/plain": [
       "<IPython.core.display.Javascript object>"
      ]
     },
     "metadata": {},
     "output_type": "display_data"
    },
    {
     "name": "stdout",
     "output_type": "stream",
     "text": [
      "Input the initial height in metres: 5\n",
      "Input the initial angle in degrees: 60\n",
      "Input the initial speed in metres/second: 15\n",
      "Input the coefficient of restitution (e < 1): 0.7\n"
     ]
    }
   ],
   "source": [
    "### Set up the scene\n",
    "canvas(center = vector(50,20,0),range=50)\n",
    "ground = curve(pos = [vector(-5,0,0), vector(100,0,0)], color = color.green)\n",
    "\n",
    "g = 9.8    # gravitational acceleration, ms^-2\n",
    "dt = 0.01  # time interval for loop animation, s\n",
    "x0 = 0.0   # initial ball x-coordinate, m\n",
    "\n",
    "# Input initial conditions (height, angle, speed and coefficient of restitution)\n",
    "y0 = float(input(\"Input the initial height in metres: \"))\n",
    "dtheta = float(input(\"Input the initial angle in degrees: \"))\n",
    "theta = np.radians(dtheta)\n",
    "v0 = float(input(\"Input the initial speed in metres/second: \"))\n",
    "e = float(input(\"Input the coefficient of restitution (e < 1): \"))\n",
    "\n",
    "# Initialise objects\n",
    "ball = sphere(pos = vector(x0,y0,0), radius = 1, make_trail = True)\n",
    "platform = box(pos = vector(x0,y0/2,0), length = 1, height = y0, width = 1, color = color.orange)\n",
    "\n",
    "tolerance = 0.1        # tolerance for bounce height, metres\n",
    "ymax = 10 * tolerance  # set bounce height arbitrarily greater than tolerance so initial ball path will always run\n",
    "\n",
    "while ymax > tolerance:     # loop animating ball as long as the bounce height is greater than the tolerance\n",
    "    t = 0                   # initialise time before each bounce\n",
    "    while ball.pos.y >= 0:  # nested loop calculating position of ball for one bounce             \n",
    "        rate(100)           # restricts animation to 100 updates per second (since dt = 0.01)\n",
    "        t = t + dt          # increment value of time to calculate new position\n",
    "    \n",
    "        # equations of motion of ball\n",
    "        ball.pos.x = x0 + v0 * t * np.cos(theta)\n",
    "        ball.pos.y = y0 + v0 * t * np.sin(theta) - 0.5 * g * t ** 2\n",
    "    \n",
    "    ball.pos.y = 0  # fix approximation error from equations of motion so nested loop will still run for bounce\n",
    "    \n",
    "    # new initial conditions for bounce   \n",
    "    y0 = ball.pos.y\n",
    "    x0 = ball.pos.x\n",
    "    alpha = np.pi/2 - theta                 # angle of incidence, radians\n",
    "    beta = np.arctan(np.tan(alpha)/e)       # angle of reflection, radians\n",
    "    theta = np.pi/2 - beta\n",
    "    v0 = v0 * e * np.cos(alpha) / np.cos(beta)\n",
    "    \n",
    "    ymax = 0.5 * (v0 * np.sin(theta))**2 / g  # new maximum height of bounce"
   ]
  },
  {
   "cell_type": "markdown",
   "metadata": {},
   "source": [
    "The code now gives a more realistic result of the motion of a ball since the height of each new bounce decreases which is a more accurate model since a real ball will lose energy as it collides with the ground. The range of each new bounce also decreases for the same reason. However, there will be an infinite number of bounces before the ball comes to a complete stop (in a vacuum which the model assumes) so the code is still an approximation of the complete motion of the ball."
   ]
  }
 ],
 "metadata": {
  "anaconda-cloud": {},
  "kernelspec": {
   "display_name": "Python 3",
   "language": "python",
   "name": "python3"
  },
  "language_info": {
   "codemirror_mode": {
    "name": "ipython",
    "version": 3
   },
   "file_extension": ".py",
   "mimetype": "text/x-python",
   "name": "python",
   "nbconvert_exporter": "python",
   "pygments_lexer": "ipython3",
   "version": "3.7.4"
  }
 },
 "nbformat": 4,
 "nbformat_minor": 1
}
